{
 "cells": [
  {
   "cell_type": "markdown",
   "metadata": {},
   "source": [
    "# Summary\n",
    "\n",
    "This script ingests pdfs of DC's vacant buildings data (e.g. https://dcra.dc.gov/sites/default/files/dc/sites/dcra/publication/attachments/Vacant%20Buildings%20%20as%20of%20February%207%202018.pdf) and gets it into a readable CSV format. We also dumped it into a google map as a demo (https://drive.google.com/open?id=15QCg36tt1y3aqp52yoeAliOwxRtiUjkh&usp=sharing).\n",
    "\n",
    "This was a prety straightforward ETL using tabula (https://blog.chezo.uno/tabula-py-extract-table-from-pdf-into-python-dataframe-6c7acfa5f302. We then did some manual cleanup, some of which is generic and some is custom to this version of the file."
   ]
  },
  {
   "cell_type": "markdown",
   "metadata": {},
   "source": [
    "# Load and Standardize File"
   ]
  },
  {
   "cell_type": "code",
   "execution_count": 5,
   "metadata": {},
   "outputs": [],
   "source": [
    "from tabula import read_pdf # tabula-py==1.2.0\n",
    "import pandas as pd # pandas==0.20.2"
   ]
  },
  {
   "cell_type": "code",
   "execution_count": 6,
   "metadata": {},
   "outputs": [],
   "source": [
    "page_one_data = read_pdf('../Vacant Buildings  as of February 7 2018.pdf')"
   ]
  },
  {
   "cell_type": "code",
   "execution_count": 7,
   "metadata": {},
   "outputs": [
    {
     "data": {
      "text/plain": [
       "(42, 6)"
      ]
     },
     "execution_count": 7,
     "metadata": {},
     "output_type": "execute_result"
    }
   ],
   "source": [
    "# Manually confirmed that page 1 has 42 rows plus header\n",
    "# Some pages have 43 plus header ¯\\_(ツ)_/¯\n",
    "page_one_data.shape"
   ]
  },
  {
   "cell_type": "code",
   "execution_count": 9,
   "metadata": {},
   "outputs": [],
   "source": [
    "all_data = read_pdf('../Vacant Buildings  as of February 7 2018.pdf', pages='all')"
   ]
  },
  {
   "cell_type": "code",
   "execution_count": 10,
   "metadata": {},
   "outputs": [
    {
     "data": {
      "text/plain": [
       "(981, 6)"
      ]
     },
     "execution_count": 10,
     "metadata": {},
     "output_type": "execute_result"
    }
   ],
   "source": [
    "# The file is 23 pages, so 981 seems about right\n",
    "all_data.shape"
   ]
  },
  {
   "cell_type": "code",
   "execution_count": 11,
   "metadata": {},
   "outputs": [
    {
     "data": {
      "text/html": [
       "<div>\n",
       "<style>\n",
       "    .dataframe thead tr:only-child th {\n",
       "        text-align: right;\n",
       "    }\n",
       "\n",
       "    .dataframe thead th {\n",
       "        text-align: left;\n",
       "    }\n",
       "\n",
       "    .dataframe tbody tr th {\n",
       "        vertical-align: top;\n",
       "    }\n",
       "</style>\n",
       "<table border=\"1\" class=\"dataframe\">\n",
       "  <thead>\n",
       "    <tr style=\"text-align: right;\">\n",
       "      <th></th>\n",
       "      <th>0</th>\n",
       "      <th>1</th>\n",
       "      <th>2</th>\n",
       "      <th>3</th>\n",
       "      <th>4</th>\n",
       "    </tr>\n",
       "  </thead>\n",
       "  <tbody>\n",
       "    <tr>\n",
       "      <th>WARD</th>\n",
       "      <td>1</td>\n",
       "      <td>1</td>\n",
       "      <td>1</td>\n",
       "      <td>1</td>\n",
       "      <td>1</td>\n",
       "    </tr>\n",
       "    <tr>\n",
       "      <th>STREET NUMBER</th>\n",
       "      <td>2002</td>\n",
       "      <td>2002</td>\n",
       "      <td>2001</td>\n",
       "      <td>982</td>\n",
       "      <td>2014</td>\n",
       "    </tr>\n",
       "    <tr>\n",
       "      <th>STREET NAME</th>\n",
       "      <td>11TH</td>\n",
       "      <td>11TH</td>\n",
       "      <td>11TH</td>\n",
       "      <td>FLORIDA</td>\n",
       "      <td>9TH</td>\n",
       "    </tr>\n",
       "    <tr>\n",
       "      <th>STREET TYPE</th>\n",
       "      <td>ST</td>\n",
       "      <td>ST</td>\n",
       "      <td>ST</td>\n",
       "      <td>AVE</td>\n",
       "      <td>ST</td>\n",
       "    </tr>\n",
       "    <tr>\n",
       "      <th>QUADRANT</th>\n",
       "      <td>NW</td>\n",
       "      <td>NW</td>\n",
       "      <td>NW</td>\n",
       "      <td>NW</td>\n",
       "      <td>NW</td>\n",
       "    </tr>\n",
       "    <tr>\n",
       "      <th>SQUARE SUFFIX LOT</th>\n",
       "      <td>0304 0027</td>\n",
       "      <td>0304 0825</td>\n",
       "      <td>0332 0080</td>\n",
       "      <td>0357 0098</td>\n",
       "      <td>0360 0078</td>\n",
       "    </tr>\n",
       "  </tbody>\n",
       "</table>\n",
       "</div>"
      ],
      "text/plain": [
       "                           0          1          2          3          4\n",
       "WARD                       1          1          1          1          1\n",
       "STREET NUMBER           2002       2002       2001        982       2014\n",
       "STREET NAME             11TH       11TH       11TH    FLORIDA        9TH\n",
       "STREET TYPE               ST         ST         ST        AVE         ST\n",
       "QUADRANT                  NW         NW         NW         NW         NW\n",
       "SQUARE SUFFIX LOT  0304 0027  0304 0825  0332 0080  0357 0098  0360 0078"
      ]
     },
     "execution_count": 11,
     "metadata": {},
     "output_type": "execute_result"
    }
   ],
   "source": [
    "all_data.head().T"
   ]
  },
  {
   "cell_type": "code",
   "execution_count": 12,
   "metadata": {},
   "outputs": [],
   "source": [
    "# clean up column names\n",
    "all_data.columns = [c.replace(' ', '_').lower() for c in all_data.columns]"
   ]
  },
  {
   "cell_type": "code",
   "execution_count": 13,
   "metadata": {},
   "outputs": [
    {
     "data": {
      "text/plain": [
       "7       273\n",
       "8       171\n",
       "5       165\n",
       "4       110\n",
       "1        91\n",
       "6        86\n",
       "2        35\n",
       "3        28\n",
       "WARD     22\n",
       "Name: ward, dtype: int64"
      ]
     },
     "execution_count": 13,
     "metadata": {},
     "output_type": "execute_result"
    }
   ],
   "source": [
    "all_data.ward.value_counts()"
   ]
  },
  {
   "cell_type": "code",
   "execution_count": 14,
   "metadata": {},
   "outputs": [],
   "source": [
    "# remove extra page header rows\n",
    "all_data = all_data[all_data.ward != 'WARD']"
   ]
  },
  {
   "cell_type": "code",
   "execution_count": 15,
   "metadata": {},
   "outputs": [
    {
     "data": {
      "text/plain": [
       "(959, 6)"
      ]
     },
     "execution_count": 15,
     "metadata": {},
     "output_type": "execute_result"
    }
   ],
   "source": [
    "all_data.shape"
   ]
  },
  {
   "cell_type": "markdown",
   "metadata": {},
   "source": [
    "# Clean up some bad data"
   ]
  },
  {
   "cell_type": "code",
   "execution_count": 50,
   "metadata": {},
   "outputs": [
    {
     "data": {
      "text/html": [
       "<div>\n",
       "<style>\n",
       "    .dataframe thead tr:only-child th {\n",
       "        text-align: right;\n",
       "    }\n",
       "\n",
       "    .dataframe thead th {\n",
       "        text-align: left;\n",
       "    }\n",
       "\n",
       "    .dataframe tbody tr th {\n",
       "        vertical-align: top;\n",
       "    }\n",
       "</style>\n",
       "<table border=\"1\" class=\"dataframe\">\n",
       "  <thead>\n",
       "    <tr style=\"text-align: right;\">\n",
       "      <th></th>\n",
       "      <th>ward</th>\n",
       "      <th>street_number</th>\n",
       "      <th>street_name</th>\n",
       "      <th>street_type</th>\n",
       "      <th>quadrant</th>\n",
       "      <th>square_suffix_lot</th>\n",
       "      <th>full_address</th>\n",
       "    </tr>\n",
       "  </thead>\n",
       "  <tbody>\n",
       "    <tr>\n",
       "      <th>90</th>\n",
       "      <td>1</td>\n",
       "      <td>1325</td>\n",
       "      <td>IRVING</td>\n",
       "      <td>ST</td>\n",
       "      <td>NW A</td>\n",
       "      <td>2848 2215</td>\n",
       "      <td>1325 IRVING ST NW A Washington, DC</td>\n",
       "    </tr>\n",
       "    <tr>\n",
       "      <th>91</th>\n",
       "      <td>1</td>\n",
       "      <td>1325</td>\n",
       "      <td>IRVING</td>\n",
       "      <td>ST</td>\n",
       "      <td>NW B</td>\n",
       "      <td>2848 2216</td>\n",
       "      <td>1325 IRVING ST NW B Washington, DC</td>\n",
       "    </tr>\n",
       "    <tr>\n",
       "      <th>103</th>\n",
       "      <td>2</td>\n",
       "      <td>1316</td>\n",
       "      <td>R</td>\n",
       "      <td>ST</td>\n",
       "      <td>NW Unit 1</td>\n",
       "      <td>0240 2008</td>\n",
       "      <td>1316 R ST NW Unit 1 Washington, DC</td>\n",
       "    </tr>\n",
       "  </tbody>\n",
       "</table>\n",
       "</div>"
      ],
      "text/plain": [
       "    ward street_number street_name street_type   quadrant square_suffix_lot  \\\n",
       "90     1          1325      IRVING          ST       NW A         2848 2215   \n",
       "91     1          1325      IRVING          ST       NW B         2848 2216   \n",
       "103    2          1316           R          ST  NW Unit 1         0240 2008   \n",
       "\n",
       "                           full_address  \n",
       "90   1325 IRVING ST NW A Washington, DC  \n",
       "91   1325 IRVING ST NW B Washington, DC  \n",
       "103  1316 R ST NW Unit 1 Washington, DC  "
      ]
     },
     "execution_count": 50,
     "metadata": {},
     "output_type": "execute_result"
    }
   ],
   "source": [
    "# some unit numbers are in the quadrant field\n",
    "# unit numbers don't exist anywhere else, so we're going to just nuke them\n",
    "all_data[all_data.quadrant.apply(lambda x: x[:2]) != all_data.quadrant]"
   ]
  },
  {
   "cell_type": "code",
   "execution_count": 51,
   "metadata": {},
   "outputs": [],
   "source": [
    "# use only the first two characters of the quadrant field\n",
    "all_data.quadrant = all_data.quadrant.apply(lambda x: x[:2])"
   ]
  },
  {
   "cell_type": "code",
   "execution_count": 60,
   "metadata": {},
   "outputs": [
    {
     "data": {
      "text/html": [
       "<div>\n",
       "<style>\n",
       "    .dataframe thead tr:only-child th {\n",
       "        text-align: right;\n",
       "    }\n",
       "\n",
       "    .dataframe thead th {\n",
       "        text-align: left;\n",
       "    }\n",
       "\n",
       "    .dataframe tbody tr th {\n",
       "        vertical-align: top;\n",
       "    }\n",
       "</style>\n",
       "<table border=\"1\" class=\"dataframe\">\n",
       "  <thead>\n",
       "    <tr style=\"text-align: right;\">\n",
       "      <th></th>\n",
       "      <th>ward</th>\n",
       "      <th>street_number</th>\n",
       "      <th>street_name</th>\n",
       "      <th>street_type</th>\n",
       "      <th>quadrant</th>\n",
       "      <th>square_suffix_lot</th>\n",
       "      <th>full_address</th>\n",
       "    </tr>\n",
       "  </thead>\n",
       "  <tbody>\n",
       "    <tr>\n",
       "      <th>5</th>\n",
       "      <td>1</td>\n",
       "      <td>2012</td>\n",
       "      <td>9th</td>\n",
       "      <td>ST</td>\n",
       "      <td>NW</td>\n",
       "      <td>0360 0079</td>\n",
       "      <td>2012 9th ST NW Washington, DC</td>\n",
       "    </tr>\n",
       "    <tr>\n",
       "      <th>109</th>\n",
       "      <td>2</td>\n",
       "      <td>616</td>\n",
       "      <td>i</td>\n",
       "      <td>sty</td>\n",
       "      <td>NW</td>\n",
       "      <td>0453 0819</td>\n",
       "      <td>616 i sty NW Washington, DC</td>\n",
       "    </tr>\n",
       "    <tr>\n",
       "      <th>980</th>\n",
       "      <td>8</td>\n",
       "      <td>2314</td>\n",
       "      <td>Park</td>\n",
       "      <td>PL</td>\n",
       "      <td>SE</td>\n",
       "      <td>5578 0002</td>\n",
       "      <td>2314 Park PL SE Washington, DC</td>\n",
       "    </tr>\n",
       "  </tbody>\n",
       "</table>\n",
       "</div>"
      ],
      "text/plain": [
       "    ward street_number street_name street_type quadrant square_suffix_lot  \\\n",
       "5      1          2012         9th          ST       NW         0360 0079   \n",
       "109    2           616           i         sty       NW         0453 0819   \n",
       "980    8          2314        Park          PL       SE         5578 0002   \n",
       "\n",
       "                       full_address  \n",
       "5     2012 9th ST NW Washington, DC  \n",
       "109     616 i sty NW Washington, DC  \n",
       "980  2314 Park PL SE Washington, DC  "
      ]
     },
     "execution_count": 60,
     "metadata": {},
     "output_type": "execute_result"
    }
   ],
   "source": [
    "# tidy up miscellaneous stuff I spotted\n",
    "all_data[all_data.street_name != all_data.street_name.apply(lambda x: x.upper())]"
   ]
  },
  {
   "cell_type": "code",
   "execution_count": 61,
   "metadata": {},
   "outputs": [],
   "source": [
    "all_data.street_name = all_data.street_name.apply(lambda x: x.upper())"
   ]
  },
  {
   "cell_type": "code",
   "execution_count": 69,
   "metadata": {},
   "outputs": [],
   "source": [
    "all_data.loc[109].street_type = 'ST'"
   ]
  },
  {
   "cell_type": "code",
   "execution_count": 41,
   "metadata": {},
   "outputs": [],
   "source": [
    "# make a field with the full address\n",
    "all_data['full_address'] = all_data.apply(lambda x: x['street_number'] + ' ' + x['street_name'] + ' ' + x['street_type'] + ' ' + x['quadrant'] + ' Washington, DC', axis=1)"
   ]
  },
  {
   "cell_type": "code",
   "execution_count": 71,
   "metadata": {},
   "outputs": [
    {
     "data": {
      "text/html": [
       "<div>\n",
       "<style>\n",
       "    .dataframe thead tr:only-child th {\n",
       "        text-align: right;\n",
       "    }\n",
       "\n",
       "    .dataframe thead th {\n",
       "        text-align: left;\n",
       "    }\n",
       "\n",
       "    .dataframe tbody tr th {\n",
       "        vertical-align: top;\n",
       "    }\n",
       "</style>\n",
       "<table border=\"1\" class=\"dataframe\">\n",
       "  <thead>\n",
       "    <tr style=\"text-align: right;\">\n",
       "      <th></th>\n",
       "      <th>0</th>\n",
       "      <th>1</th>\n",
       "      <th>2</th>\n",
       "      <th>3</th>\n",
       "      <th>4</th>\n",
       "    </tr>\n",
       "  </thead>\n",
       "  <tbody>\n",
       "    <tr>\n",
       "      <th>ward</th>\n",
       "      <td>1</td>\n",
       "      <td>1</td>\n",
       "      <td>1</td>\n",
       "      <td>1</td>\n",
       "      <td>1</td>\n",
       "    </tr>\n",
       "    <tr>\n",
       "      <th>street_number</th>\n",
       "      <td>2002</td>\n",
       "      <td>2002</td>\n",
       "      <td>2001</td>\n",
       "      <td>982</td>\n",
       "      <td>2014</td>\n",
       "    </tr>\n",
       "    <tr>\n",
       "      <th>street_name</th>\n",
       "      <td>11TH</td>\n",
       "      <td>11TH</td>\n",
       "      <td>11TH</td>\n",
       "      <td>FLORIDA</td>\n",
       "      <td>9TH</td>\n",
       "    </tr>\n",
       "    <tr>\n",
       "      <th>street_type</th>\n",
       "      <td>ST</td>\n",
       "      <td>ST</td>\n",
       "      <td>ST</td>\n",
       "      <td>AVE</td>\n",
       "      <td>ST</td>\n",
       "    </tr>\n",
       "    <tr>\n",
       "      <th>quadrant</th>\n",
       "      <td>NW</td>\n",
       "      <td>NW</td>\n",
       "      <td>NW</td>\n",
       "      <td>NW</td>\n",
       "      <td>NW</td>\n",
       "    </tr>\n",
       "    <tr>\n",
       "      <th>square_suffix_lot</th>\n",
       "      <td>0304 0027</td>\n",
       "      <td>0304 0825</td>\n",
       "      <td>0332 0080</td>\n",
       "      <td>0357 0098</td>\n",
       "      <td>0360 0078</td>\n",
       "    </tr>\n",
       "    <tr>\n",
       "      <th>full_address</th>\n",
       "      <td>2002 11TH ST NW Washington, DC</td>\n",
       "      <td>2002 11TH ST NW Washington, DC</td>\n",
       "      <td>2001 11TH ST NW Washington, DC</td>\n",
       "      <td>982 FLORIDA AVE NW Washington, DC</td>\n",
       "      <td>2014 9TH ST NW Washington, DC</td>\n",
       "    </tr>\n",
       "  </tbody>\n",
       "</table>\n",
       "</div>"
      ],
      "text/plain": [
       "                                                0  \\\n",
       "ward                                            1   \n",
       "street_number                                2002   \n",
       "street_name                                  11TH   \n",
       "street_type                                    ST   \n",
       "quadrant                                       NW   \n",
       "square_suffix_lot                       0304 0027   \n",
       "full_address       2002 11TH ST NW Washington, DC   \n",
       "\n",
       "                                                1  \\\n",
       "ward                                            1   \n",
       "street_number                                2002   \n",
       "street_name                                  11TH   \n",
       "street_type                                    ST   \n",
       "quadrant                                       NW   \n",
       "square_suffix_lot                       0304 0825   \n",
       "full_address       2002 11TH ST NW Washington, DC   \n",
       "\n",
       "                                                2  \\\n",
       "ward                                            1   \n",
       "street_number                                2001   \n",
       "street_name                                  11TH   \n",
       "street_type                                    ST   \n",
       "quadrant                                       NW   \n",
       "square_suffix_lot                       0332 0080   \n",
       "full_address       2001 11TH ST NW Washington, DC   \n",
       "\n",
       "                                                   3  \\\n",
       "ward                                               1   \n",
       "street_number                                    982   \n",
       "street_name                                  FLORIDA   \n",
       "street_type                                      AVE   \n",
       "quadrant                                          NW   \n",
       "square_suffix_lot                          0357 0098   \n",
       "full_address       982 FLORIDA AVE NW Washington, DC   \n",
       "\n",
       "                                               4  \n",
       "ward                                           1  \n",
       "street_number                               2014  \n",
       "street_name                                  9TH  \n",
       "street_type                                   ST  \n",
       "quadrant                                      NW  \n",
       "square_suffix_lot                      0360 0078  \n",
       "full_address       2014 9TH ST NW Washington, DC  "
      ]
     },
     "execution_count": 71,
     "metadata": {},
     "output_type": "execute_result"
    }
   ],
   "source": [
    "all_data.head().T"
   ]
  },
  {
   "cell_type": "markdown",
   "metadata": {},
   "source": [
    "# Output\n",
    "\n",
    "This csv was uploaded to Google Maps to make this: https://drive.google.com/open?id=15QCg36tt1y3aqp52yoeAliOwxRtiUjkh&usp=sharing. Another use might be to geocode the addresses and pin on the ANC using a spatial join with a shapefile."
   ]
  },
  {
   "cell_type": "code",
   "execution_count": 43,
   "metadata": {},
   "outputs": [],
   "source": [
    "all_data.to_csv('gmaps_out.csv', index=False)"
   ]
  }
 ],
 "metadata": {
  "kernelspec": {
   "display_name": "Python 3",
   "language": "python",
   "name": "python3"
  },
  "language_info": {
   "codemirror_mode": {
    "name": "ipython",
    "version": 3
   },
   "file_extension": ".py",
   "mimetype": "text/x-python",
   "name": "python",
   "nbconvert_exporter": "python",
   "pygments_lexer": "ipython3",
   "version": "3.5.1"
  }
 },
 "nbformat": 4,
 "nbformat_minor": 2
}
