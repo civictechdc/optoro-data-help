{
 "cells": [
  {
   "cell_type": "code",
   "execution_count": 4,
   "metadata": {},
   "outputs": [
    {
     "name": "stdout",
     "output_type": "stream",
     "text": [
      "Looking in indexes: https://pypi.org/simple, https://pypicloud.optoro.io/pypi\n",
      "Requirement already satisfied: tabula-py in /Users/tterry/.pyenv/versions/3.5.1/lib/python3.5/site-packages (1.2.0)\n",
      "Requirement already satisfied: numpy in /Users/tterry/.pyenv/versions/3.5.1/lib/python3.5/site-packages (from tabula-py) (1.13.3)\n",
      "Requirement already satisfied: pandas in /Users/tterry/.pyenv/versions/3.5.1/lib/python3.5/site-packages (from tabula-py) (0.20.2)\n",
      "Requirement already satisfied: requests in /Users/tterry/.pyenv/versions/3.5.1/lib/python3.5/site-packages (from tabula-py) (2.9.1)\n",
      "Requirement already satisfied: distro in /Users/tterry/.pyenv/versions/3.5.1/lib/python3.5/site-packages (from tabula-py) (1.3.0)\n",
      "Requirement already satisfied: pytz>=2011k in /Users/tterry/.pyenv/versions/3.5.1/lib/python3.5/site-packages (from pandas->tabula-py) (2017.3)\n",
      "Requirement already satisfied: python-dateutil>=2 in /Users/tterry/.pyenv/versions/3.5.1/lib/python3.5/site-packages (from pandas->tabula-py) (2.7.0)\n",
      "Requirement already satisfied: six>=1.5 in /Users/tterry/.pyenv/versions/3.5.1/lib/python3.5/site-packages (from python-dateutil>=2->pandas->tabula-py) (1.11.0)\n",
      "\u001b[31mairflow 1.8.0 has requirement jinja2<2.9.0,>=2.7.3, but you'll have jinja2 2.10 which is incompatible.\u001b[0m\n",
      "\u001b[31mbleach 2.1.3 has requirement html5lib!=1.0b1,!=1.0b2,!=1.0b3,!=1.0b4,!=1.0b5,!=1.0b6,!=1.0b7,!=1.0b8,>=0.99999999pre, but you'll have html5lib 1.0b8 which is incompatible.\u001b[0m\n",
      "\u001b[31msmart-open 1.3.2 has requirement requests==2.8.1, but you'll have requests 2.9.1 which is incompatible.\u001b[0m\n"
     ]
    }
   ],
   "source": [
    "!pip install tabula-py"
   ]
  },
  {
   "cell_type": "code",
   "execution_count": 28,
   "metadata": {},
   "outputs": [
    {
     "name": "stdout",
     "output_type": "stream",
     "text": [
      "Looking in indexes: https://pypi.org/simple, https://pypicloud.optoro.io/pypi\n",
      "Collecting pygeocoder\n",
      "  Downloading https://files.pythonhosted.org/packages/3b/79/2cf3a4dfe54705bbf07cbb25940078dfa595608aa4ecb9f0aaaae9faba08/pygeocoder-1.2.5.tar.gz\n",
      "Requirement already satisfied: requests>=1.0 in /Users/tterry/.pyenv/versions/3.5.1/lib/python3.5/site-packages (from pygeocoder) (2.9.1)\n",
      "Building wheels for collected packages: pygeocoder\n",
      "  Running setup.py bdist_wheel for pygeocoder ... \u001b[?25ldone\n",
      "\u001b[?25h  Stored in directory: /Users/tterry/Library/Caches/pip/wheels/7c/4c/00/d05c66c4af5411c554c91b8079732c8a0359c2226fb8c01031\n",
      "Successfully built pygeocoder\n",
      "\u001b[31msmart-open 1.3.2 has requirement requests==2.8.1, but you'll have requests 2.9.1 which is incompatible.\u001b[0m\n",
      "\u001b[31mairflow 1.8.0 has requirement jinja2<2.9.0,>=2.7.3, but you'll have jinja2 2.10 which is incompatible.\u001b[0m\n",
      "\u001b[31mbleach 2.1.3 has requirement html5lib!=1.0b1,!=1.0b2,!=1.0b3,!=1.0b4,!=1.0b5,!=1.0b6,!=1.0b7,!=1.0b8,>=0.99999999pre, but you'll have html5lib 1.0b8 which is incompatible.\u001b[0m\n",
      "Installing collected packages: pygeocoder\n",
      "Successfully installed pygeocoder-1.2.5\n"
     ]
    }
   ],
   "source": [
    "!pip install pygeocoder"
   ]
  },
  {
   "cell_type": "code",
   "execution_count": 6,
   "metadata": {},
   "outputs": [
    {
     "name": "stdout",
     "output_type": "stream",
     "text": [
      "DCRA Determination Letter for FOIA Request #2018-FOIA-03417 (Code for DC).pdf\r\n",
      "Untitled.ipynb\r\n",
      "Untitled.py\r\n",
      "Untitled.txt\r\n",
      "Vacant Buildings  as of February 7 2018.pdf\r\n",
      "Vacant_Exempt.pdf\r\n"
     ]
    }
   ],
   "source": [
    "!ls"
   ]
  },
  {
   "cell_type": "code",
   "execution_count": 2,
   "metadata": {},
   "outputs": [],
   "source": [
    "from tabula import read_pdf\n",
    "from pygeocoder import Geocoder"
   ]
  },
  {
   "cell_type": "code",
   "execution_count": 5,
   "metadata": {},
   "outputs": [],
   "source": [
    "page_one_data = read_pdf('../Vacant Buildings  as of February 7 2018.pdf')"
   ]
  },
  {
   "cell_type": "code",
   "execution_count": 6,
   "metadata": {},
   "outputs": [
    {
     "data": {
      "text/plain": [
       "(42, 6)"
      ]
     },
     "execution_count": 6,
     "metadata": {},
     "output_type": "execute_result"
    }
   ],
   "source": [
    "# manually confirmed that page 1 has 42 rows plus header\n",
    "# another one I checked has 43\n",
    "page_one_data.shape"
   ]
  },
  {
   "cell_type": "code",
   "execution_count": 7,
   "metadata": {},
   "outputs": [
    {
     "data": {
      "text/plain": [
       "966"
      ]
     },
     "execution_count": 7,
     "metadata": {},
     "output_type": "execute_result"
    }
   ],
   "source": [
    "# the file is 23 pages\n",
    "42*23"
   ]
  },
  {
   "cell_type": "code",
   "execution_count": 8,
   "metadata": {},
   "outputs": [],
   "source": [
    "all_data = read_pdf('../Vacant Buildings  as of February 7 2018.pdf', pages='all')"
   ]
  },
  {
   "cell_type": "code",
   "execution_count": 9,
   "metadata": {},
   "outputs": [
    {
     "data": {
      "text/plain": [
       "(981, 6)"
      ]
     },
     "execution_count": 9,
     "metadata": {},
     "output_type": "execute_result"
    }
   ],
   "source": [
    "# 981 seems about right\n",
    "all_data.shape"
   ]
  },
  {
   "cell_type": "code",
   "execution_count": 10,
   "metadata": {},
   "outputs": [
    {
     "data": {
      "text/html": [
       "<div>\n",
       "<style>\n",
       "    .dataframe thead tr:only-child th {\n",
       "        text-align: right;\n",
       "    }\n",
       "\n",
       "    .dataframe thead th {\n",
       "        text-align: left;\n",
       "    }\n",
       "\n",
       "    .dataframe tbody tr th {\n",
       "        vertical-align: top;\n",
       "    }\n",
       "</style>\n",
       "<table border=\"1\" class=\"dataframe\">\n",
       "  <thead>\n",
       "    <tr style=\"text-align: right;\">\n",
       "      <th></th>\n",
       "      <th>0</th>\n",
       "      <th>1</th>\n",
       "      <th>2</th>\n",
       "      <th>3</th>\n",
       "      <th>4</th>\n",
       "    </tr>\n",
       "  </thead>\n",
       "  <tbody>\n",
       "    <tr>\n",
       "      <th>WARD</th>\n",
       "      <td>1</td>\n",
       "      <td>1</td>\n",
       "      <td>1</td>\n",
       "      <td>1</td>\n",
       "      <td>1</td>\n",
       "    </tr>\n",
       "    <tr>\n",
       "      <th>STREET NUMBER</th>\n",
       "      <td>2002</td>\n",
       "      <td>2002</td>\n",
       "      <td>2001</td>\n",
       "      <td>982</td>\n",
       "      <td>2014</td>\n",
       "    </tr>\n",
       "    <tr>\n",
       "      <th>STREET NAME</th>\n",
       "      <td>11TH</td>\n",
       "      <td>11TH</td>\n",
       "      <td>11TH</td>\n",
       "      <td>FLORIDA</td>\n",
       "      <td>9TH</td>\n",
       "    </tr>\n",
       "    <tr>\n",
       "      <th>STREET TYPE</th>\n",
       "      <td>ST</td>\n",
       "      <td>ST</td>\n",
       "      <td>ST</td>\n",
       "      <td>AVE</td>\n",
       "      <td>ST</td>\n",
       "    </tr>\n",
       "    <tr>\n",
       "      <th>QUADRANT</th>\n",
       "      <td>NW</td>\n",
       "      <td>NW</td>\n",
       "      <td>NW</td>\n",
       "      <td>NW</td>\n",
       "      <td>NW</td>\n",
       "    </tr>\n",
       "    <tr>\n",
       "      <th>SQUARE SUFFIX LOT</th>\n",
       "      <td>0304 0027</td>\n",
       "      <td>0304 0825</td>\n",
       "      <td>0332 0080</td>\n",
       "      <td>0357 0098</td>\n",
       "      <td>0360 0078</td>\n",
       "    </tr>\n",
       "  </tbody>\n",
       "</table>\n",
       "</div>"
      ],
      "text/plain": [
       "                           0          1          2          3          4\n",
       "WARD                       1          1          1          1          1\n",
       "STREET NUMBER           2002       2002       2001        982       2014\n",
       "STREET NAME             11TH       11TH       11TH    FLORIDA        9TH\n",
       "STREET TYPE               ST         ST         ST        AVE         ST\n",
       "QUADRANT                  NW         NW         NW         NW         NW\n",
       "SQUARE SUFFIX LOT  0304 0027  0304 0825  0332 0080  0357 0098  0360 0078"
      ]
     },
     "execution_count": 10,
     "metadata": {},
     "output_type": "execute_result"
    }
   ],
   "source": [
    "all_data.head().T"
   ]
  },
  {
   "cell_type": "code",
   "execution_count": 11,
   "metadata": {},
   "outputs": [],
   "source": [
    "all_data.columns = [c.replace(' ', '_').lower() for c in all_data.columns]"
   ]
  },
  {
   "cell_type": "code",
   "execution_count": 12,
   "metadata": {},
   "outputs": [
    {
     "data": {
      "text/plain": [
       "7       273\n",
       "8       171\n",
       "5       165\n",
       "4       110\n",
       "1        91\n",
       "6        86\n",
       "2        35\n",
       "3        28\n",
       "WARD     22\n",
       "Name: ward, dtype: int64"
      ]
     },
     "execution_count": 12,
     "metadata": {},
     "output_type": "execute_result"
    }
   ],
   "source": [
    "all_data.ward.value_counts()"
   ]
  },
  {
   "cell_type": "code",
   "execution_count": 16,
   "metadata": {},
   "outputs": [],
   "source": [
    "all_data = all_data[all_data.ward != 'WARD']"
   ]
  },
  {
   "cell_type": "code",
   "execution_count": 17,
   "metadata": {},
   "outputs": [
    {
     "data": {
      "text/plain": [
       "(959, 6)"
      ]
     },
     "execution_count": 17,
     "metadata": {},
     "output_type": "execute_result"
    }
   ],
   "source": [
    "all_data.shape"
   ]
  },
  {
   "cell_type": "markdown",
   "metadata": {},
   "source": [
    "# Let's Geocode these Addresses\n",
    "\n",
    "Good intro at https://chrisalbon.com/python/data_wrangling/geocoding_and_reverse_geocoding/"
   ]
  },
  {
   "cell_type": "code",
   "execution_count": null,
   "metadata": {},
   "outputs": [],
   "source": []
  }
 ],
 "metadata": {
  "kernelspec": {
   "display_name": "Python 3",
   "language": "python",
   "name": "python3"
  },
  "language_info": {
   "codemirror_mode": {
    "name": "ipython",
    "version": 3
   },
   "file_extension": ".py",
   "mimetype": "text/x-python",
   "name": "python",
   "nbconvert_exporter": "python",
   "pygments_lexer": "ipython3",
   "version": "3.5.1"
  }
 },
 "nbformat": 4,
 "nbformat_minor": 2
}
