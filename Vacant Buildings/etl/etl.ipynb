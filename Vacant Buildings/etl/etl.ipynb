{
 "cells": [
  {
   "cell_type": "code",
   "execution_count": 4,
   "metadata": {},
   "outputs": [
    {
     "name": "stdout",
     "output_type": "stream",
     "text": [
      "Looking in indexes: https://pypi.org/simple, https://pypicloud.optoro.io/pypi\n",
      "Requirement already satisfied: tabula-py in /Users/tterry/.pyenv/versions/3.5.1/lib/python3.5/site-packages (1.2.0)\n",
      "Requirement already satisfied: numpy in /Users/tterry/.pyenv/versions/3.5.1/lib/python3.5/site-packages (from tabula-py) (1.13.3)\n",
      "Requirement already satisfied: pandas in /Users/tterry/.pyenv/versions/3.5.1/lib/python3.5/site-packages (from tabula-py) (0.20.2)\n",
      "Requirement already satisfied: requests in /Users/tterry/.pyenv/versions/3.5.1/lib/python3.5/site-packages (from tabula-py) (2.9.1)\n",
      "Requirement already satisfied: distro in /Users/tterry/.pyenv/versions/3.5.1/lib/python3.5/site-packages (from tabula-py) (1.3.0)\n",
      "Requirement already satisfied: pytz>=2011k in /Users/tterry/.pyenv/versions/3.5.1/lib/python3.5/site-packages (from pandas->tabula-py) (2017.3)\n",
      "Requirement already satisfied: python-dateutil>=2 in /Users/tterry/.pyenv/versions/3.5.1/lib/python3.5/site-packages (from pandas->tabula-py) (2.7.0)\n",
      "Requirement already satisfied: six>=1.5 in /Users/tterry/.pyenv/versions/3.5.1/lib/python3.5/site-packages (from python-dateutil>=2->pandas->tabula-py) (1.11.0)\n",
      "\u001b[31mairflow 1.8.0 has requirement jinja2<2.9.0,>=2.7.3, but you'll have jinja2 2.10 which is incompatible.\u001b[0m\n",
      "\u001b[31mbleach 2.1.3 has requirement html5lib!=1.0b1,!=1.0b2,!=1.0b3,!=1.0b4,!=1.0b5,!=1.0b6,!=1.0b7,!=1.0b8,>=0.99999999pre, but you'll have html5lib 1.0b8 which is incompatible.\u001b[0m\n",
      "\u001b[31msmart-open 1.3.2 has requirement requests==2.8.1, but you'll have requests 2.9.1 which is incompatible.\u001b[0m\n"
     ]
    }
   ],
   "source": [
    "!pip install tabula-py"
   ]
  },
  {
   "cell_type": "code",
   "execution_count": 28,
   "metadata": {},
   "outputs": [
    {
     "name": "stdout",
     "output_type": "stream",
     "text": [
      "Looking in indexes: https://pypi.org/simple, https://pypicloud.optoro.io/pypi\n",
      "Collecting pygeocoder\n",
      "  Downloading https://files.pythonhosted.org/packages/3b/79/2cf3a4dfe54705bbf07cbb25940078dfa595608aa4ecb9f0aaaae9faba08/pygeocoder-1.2.5.tar.gz\n",
      "Requirement already satisfied: requests>=1.0 in /Users/tterry/.pyenv/versions/3.5.1/lib/python3.5/site-packages (from pygeocoder) (2.9.1)\n",
      "Building wheels for collected packages: pygeocoder\n",
      "  Running setup.py bdist_wheel for pygeocoder ... \u001b[?25ldone\n",
      "\u001b[?25h  Stored in directory: /Users/tterry/Library/Caches/pip/wheels/7c/4c/00/d05c66c4af5411c554c91b8079732c8a0359c2226fb8c01031\n",
      "Successfully built pygeocoder\n",
      "\u001b[31msmart-open 1.3.2 has requirement requests==2.8.1, but you'll have requests 2.9.1 which is incompatible.\u001b[0m\n",
      "\u001b[31mairflow 1.8.0 has requirement jinja2<2.9.0,>=2.7.3, but you'll have jinja2 2.10 which is incompatible.\u001b[0m\n",
      "\u001b[31mbleach 2.1.3 has requirement html5lib!=1.0b1,!=1.0b2,!=1.0b3,!=1.0b4,!=1.0b5,!=1.0b6,!=1.0b7,!=1.0b8,>=0.99999999pre, but you'll have html5lib 1.0b8 which is incompatible.\u001b[0m\n",
      "Installing collected packages: pygeocoder\n",
      "Successfully installed pygeocoder-1.2.5\n"
     ]
    }
   ],
   "source": [
    "!pip install pygeocoder"
   ]
  },
  {
   "cell_type": "code",
   "execution_count": 6,
   "metadata": {},
   "outputs": [
    {
     "name": "stdout",
     "output_type": "stream",
     "text": [
      "DCRA Determination Letter for FOIA Request #2018-FOIA-03417 (Code for DC).pdf\r\n",
      "Untitled.ipynb\r\n",
      "Untitled.py\r\n",
      "Untitled.txt\r\n",
      "Vacant Buildings  as of February 7 2018.pdf\r\n",
      "Vacant_Exempt.pdf\r\n"
     ]
    }
   ],
   "source": [
    "!ls"
   ]
  },
  {
   "cell_type": "code",
   "execution_count": 18,
   "metadata": {},
   "outputs": [],
   "source": [
    "from tabula import read_pdf\n",
    "from pygeocoder import Geocoder"
   ]
  },
  {
   "cell_type": "code",
   "execution_count": 5,
   "metadata": {},
   "outputs": [],
   "source": [
    "page_one_data = read_pdf('../Vacant Buildings  as of February 7 2018.pdf')"
   ]
  },
  {
   "cell_type": "code",
   "execution_count": 6,
   "metadata": {},
   "outputs": [
    {
     "data": {
      "text/plain": [
       "(42, 6)"
      ]
     },
     "execution_count": 6,
     "metadata": {},
     "output_type": "execute_result"
    }
   ],
   "source": [
    "# manually confirmed that page 1 has 42 rows plus header\n",
    "# another one I checked has 43\n",
    "page_one_data.shape"
   ]
  },
  {
   "cell_type": "code",
   "execution_count": 7,
   "metadata": {},
   "outputs": [
    {
     "data": {
      "text/plain": [
       "966"
      ]
     },
     "execution_count": 7,
     "metadata": {},
     "output_type": "execute_result"
    }
   ],
   "source": [
    "# the file is 23 pages\n",
    "42*23"
   ]
  },
  {
   "cell_type": "code",
   "execution_count": 8,
   "metadata": {},
   "outputs": [],
   "source": [
    "all_data = read_pdf('../Vacant Buildings  as of February 7 2018.pdf', pages='all')"
   ]
  },
  {
   "cell_type": "code",
   "execution_count": 9,
   "metadata": {},
   "outputs": [
    {
     "data": {
      "text/plain": [
       "(981, 6)"
      ]
     },
     "execution_count": 9,
     "metadata": {},
     "output_type": "execute_result"
    }
   ],
   "source": [
    "# 981 seems about right\n",
    "all_data.shape"
   ]
  },
  {
   "cell_type": "code",
   "execution_count": 10,
   "metadata": {},
   "outputs": [
    {
     "data": {
      "text/html": [
       "<div>\n",
       "<style>\n",
       "    .dataframe thead tr:only-child th {\n",
       "        text-align: right;\n",
       "    }\n",
       "\n",
       "    .dataframe thead th {\n",
       "        text-align: left;\n",
       "    }\n",
       "\n",
       "    .dataframe tbody tr th {\n",
       "        vertical-align: top;\n",
       "    }\n",
       "</style>\n",
       "<table border=\"1\" class=\"dataframe\">\n",
       "  <thead>\n",
       "    <tr style=\"text-align: right;\">\n",
       "      <th></th>\n",
       "      <th>0</th>\n",
       "      <th>1</th>\n",
       "      <th>2</th>\n",
       "      <th>3</th>\n",
       "      <th>4</th>\n",
       "    </tr>\n",
       "  </thead>\n",
       "  <tbody>\n",
       "    <tr>\n",
       "      <th>WARD</th>\n",
       "      <td>1</td>\n",
       "      <td>1</td>\n",
       "      <td>1</td>\n",
       "      <td>1</td>\n",
       "      <td>1</td>\n",
       "    </tr>\n",
       "    <tr>\n",
       "      <th>STREET NUMBER</th>\n",
       "      <td>2002</td>\n",
       "      <td>2002</td>\n",
       "      <td>2001</td>\n",
       "      <td>982</td>\n",
       "      <td>2014</td>\n",
       "    </tr>\n",
       "    <tr>\n",
       "      <th>STREET NAME</th>\n",
       "      <td>11TH</td>\n",
       "      <td>11TH</td>\n",
       "      <td>11TH</td>\n",
       "      <td>FLORIDA</td>\n",
       "      <td>9TH</td>\n",
       "    </tr>\n",
       "    <tr>\n",
       "      <th>STREET TYPE</th>\n",
       "      <td>ST</td>\n",
       "      <td>ST</td>\n",
       "      <td>ST</td>\n",
       "      <td>AVE</td>\n",
       "      <td>ST</td>\n",
       "    </tr>\n",
       "    <tr>\n",
       "      <th>QUADRANT</th>\n",
       "      <td>NW</td>\n",
       "      <td>NW</td>\n",
       "      <td>NW</td>\n",
       "      <td>NW</td>\n",
       "      <td>NW</td>\n",
       "    </tr>\n",
       "    <tr>\n",
       "      <th>SQUARE SUFFIX LOT</th>\n",
       "      <td>0304 0027</td>\n",
       "      <td>0304 0825</td>\n",
       "      <td>0332 0080</td>\n",
       "      <td>0357 0098</td>\n",
       "      <td>0360 0078</td>\n",
       "    </tr>\n",
       "  </tbody>\n",
       "</table>\n",
       "</div>"
      ],
      "text/plain": [
       "                           0          1          2          3          4\n",
       "WARD                       1          1          1          1          1\n",
       "STREET NUMBER           2002       2002       2001        982       2014\n",
       "STREET NAME             11TH       11TH       11TH    FLORIDA        9TH\n",
       "STREET TYPE               ST         ST         ST        AVE         ST\n",
       "QUADRANT                  NW         NW         NW         NW         NW\n",
       "SQUARE SUFFIX LOT  0304 0027  0304 0825  0332 0080  0357 0098  0360 0078"
      ]
     },
     "execution_count": 10,
     "metadata": {},
     "output_type": "execute_result"
    }
   ],
   "source": [
    "all_data.head().T"
   ]
  },
  {
   "cell_type": "code",
   "execution_count": 11,
   "metadata": {},
   "outputs": [],
   "source": [
    "all_data.columns = [c.replace(' ', '_').lower() for c in all_data.columns]"
   ]
  },
  {
   "cell_type": "code",
   "execution_count": 12,
   "metadata": {},
   "outputs": [
    {
     "data": {
      "text/plain": [
       "7       273\n",
       "8       171\n",
       "5       165\n",
       "4       110\n",
       "1        91\n",
       "6        86\n",
       "2        35\n",
       "3        28\n",
       "WARD     22\n",
       "Name: ward, dtype: int64"
      ]
     },
     "execution_count": 12,
     "metadata": {},
     "output_type": "execute_result"
    }
   ],
   "source": [
    "all_data.ward.value_counts()"
   ]
  },
  {
   "cell_type": "code",
   "execution_count": 16,
   "metadata": {},
   "outputs": [],
   "source": [
    "all_data = all_data[all_data.ward != 'WARD']"
   ]
  },
  {
   "cell_type": "code",
   "execution_count": 17,
   "metadata": {},
   "outputs": [
    {
     "data": {
      "text/plain": [
       "(959, 6)"
      ]
     },
     "execution_count": 17,
     "metadata": {},
     "output_type": "execute_result"
    }
   ],
   "source": [
    "all_data.shape"
   ]
  },
  {
   "cell_type": "markdown",
   "metadata": {},
   "source": [
    "# Let's Geocode these Addresses\n",
    "\n",
    "Good intro at https://chrisalbon.com/python/data_wrangling/geocoding_and_reverse_geocoding/"
   ]
  },
  {
   "cell_type": "code",
   "execution_count": 26,
   "metadata": {},
   "outputs": [],
   "source": [
    "result = Geocoder.geocode(\"1600 amphiteather parkway, mountain view, CA 94043\")"
   ]
  },
  {
   "cell_type": "code",
   "execution_count": 27,
   "metadata": {},
   "outputs": [
    {
     "data": {
      "text/plain": [
       "(37.4214614, -122.0827013, True)"
      ]
     },
     "execution_count": 27,
     "metadata": {},
     "output_type": "execute_result"
    }
   ],
   "source": [
    "result.latitude, result.longitude, result.valid_address"
   ]
  },
  {
   "cell_type": "code",
   "execution_count": 32,
   "metadata": {},
   "outputs": [
    {
     "data": {
      "text/plain": [
       "ward                 object\n",
       "street_number        object\n",
       "street_name          object\n",
       "street_type          object\n",
       "quadrant             object\n",
       "square_suffix_lot    object\n",
       "dtype: object"
      ]
     },
     "execution_count": 32,
     "metadata": {},
     "output_type": "execute_result"
    }
   ],
   "source": [
    "all_data.dtypes"
   ]
  },
  {
   "cell_type": "code",
   "execution_count": 33,
   "metadata": {},
   "outputs": [
    {
     "data": {
      "text/plain": [
       "'a b'"
      ]
     },
     "execution_count": 33,
     "metadata": {},
     "output_type": "execute_result"
    }
   ],
   "source": [
    "' '.join(['a', 'b'])"
   ]
  },
  {
   "cell_type": "code",
   "execution_count": 37,
   "metadata": {},
   "outputs": [
    {
     "name": "stderr",
     "output_type": "stream",
     "text": [
      "ERROR:root:Internal Python error in the inspect module.\n",
      "Below is the traceback from this internal error.\n",
      "\n",
      "ERROR:root:Internal Python error in the inspect module.\n",
      "Below is the traceback from this internal error.\n",
      "\n",
      "ERROR:root:Internal Python error in the inspect module.\n",
      "Below is the traceback from this internal error.\n",
      "\n"
     ]
    },
    {
     "name": "stdout",
     "output_type": "stream",
     "text": [
      "Traceback (most recent call last):\n",
      "  File \"pandas/_libs/index.pyx\", line 154, in pandas._libs.index.IndexEngine.get_loc (pandas/_libs/index.c:5126)\n",
      "  File \"pandas/_libs/hashtable_class_helper.pxi\", line 759, in pandas._libs.hashtable.Int64HashTable.get_item (pandas/_libs/hashtable.c:14010)\n",
      "TypeError: an integer is required\n",
      "\n",
      "During handling of the above exception, another exception occurred:\n",
      "\n",
      "Traceback (most recent call last):\n",
      "  File \"/Users/tterry/.pyenv/versions/3.5.1/lib/python3.5/site-packages/IPython/core/interactiveshell.py\", line 2910, in run_code\n",
      "    exec(code_obj, self.user_global_ns, self.user_ns)\n",
      "  File \"<ipython-input-37-fca46aea3cae>\", line 1, in <module>\n",
      "    all_data['address_full'] = all_data.apply(lambda x: ' '.join([x['street_number'], x['street_type'], x['quadrant'], 'Washington, DC'], axis=1))\n",
      "  File \"/Users/tterry/.pyenv/versions/3.5.1/lib/python3.5/site-packages/pandas/core/frame.py\", line 4262, in apply\n",
      "    ignore_failures=ignore_failures)\n",
      "  File \"/Users/tterry/.pyenv/versions/3.5.1/lib/python3.5/site-packages/pandas/core/frame.py\", line 4358, in _apply_standard\n",
      "    results[i] = func(v)\n",
      "  File \"<ipython-input-37-fca46aea3cae>\", line 1, in <lambda>\n",
      "    all_data['address_full'] = all_data.apply(lambda x: ' '.join([x['street_number'], x['street_type'], x['quadrant'], 'Washington, DC'], axis=1))\n",
      "  File \"/Users/tterry/.pyenv/versions/3.5.1/lib/python3.5/site-packages/pandas/core/series.py\", line 601, in __getitem__\n",
      "    result = self.index.get_value(self, key)\n",
      "  File \"/Users/tterry/.pyenv/versions/3.5.1/lib/python3.5/site-packages/pandas/core/indexes/base.py\", line 2477, in get_value\n",
      "    tz=getattr(series.dtype, 'tz', None))\n",
      "  File \"pandas/_libs/index.pyx\", line 98, in pandas._libs.index.IndexEngine.get_value (pandas/_libs/index.c:4404)\n",
      "  File \"pandas/_libs/index.pyx\", line 106, in pandas._libs.index.IndexEngine.get_value (pandas/_libs/index.c:4087)\n",
      "  File \"pandas/_libs/index.pyx\", line 156, in pandas._libs.index.IndexEngine.get_loc (pandas/_libs/index.c:5210)\n",
      "KeyError: ('street_number', 'occurred at index ward')\n",
      "\n",
      "During handling of the above exception, another exception occurred:\n",
      "\n",
      "Traceback (most recent call last):\n",
      "  File \"/Users/tterry/.pyenv/versions/3.5.1/lib/python3.5/site-packages/IPython/core/interactiveshell.py\", line 1828, in showtraceback\n",
      "    stb = value._render_traceback_()\n",
      "AttributeError: 'KeyError' object has no attribute '_render_traceback_'\n",
      "\n",
      "During handling of the above exception, another exception occurred:\n",
      "\n",
      "Traceback (most recent call last):\n",
      "  File \"/Users/tterry/.pyenv/versions/3.5.1/lib/python3.5/site-packages/IPython/core/ultratb.py\", line 1090, in get_records\n",
      "    return _fixed_getinnerframes(etb, number_of_lines_of_context, tb_offset)\n",
      "  File \"/Users/tterry/.pyenv/versions/3.5.1/lib/python3.5/site-packages/IPython/core/ultratb.py\", line 311, in wrapped\n",
      "    return f(*args, **kwargs)\n",
      "  File \"/Users/tterry/.pyenv/versions/3.5.1/lib/python3.5/site-packages/IPython/core/ultratb.py\", line 345, in _fixed_getinnerframes\n",
      "    records = fix_frame_records_filenames(inspect.getinnerframes(etb, context))\n",
      "  File \"/Users/tterry/.pyenv/versions/3.5.1/lib/python3.5/inspect.py\", line 1453, in getinnerframes\n",
      "    frameinfo = (tb.tb_frame,) + getframeinfo(tb, context)\n",
      "  File \"/Users/tterry/.pyenv/versions/3.5.1/lib/python3.5/inspect.py\", line 1410, in getframeinfo\n",
      "    filename = getsourcefile(frame) or getfile(frame)\n",
      "  File \"/Users/tterry/.pyenv/versions/3.5.1/lib/python3.5/inspect.py\", line 672, in getsourcefile\n",
      "    if getattr(getmodule(object, filename), '__loader__', None) is not None:\n",
      "  File \"/Users/tterry/.pyenv/versions/3.5.1/lib/python3.5/inspect.py\", line 701, in getmodule\n",
      "    file = getabsfile(object, _filename)\n",
      "  File \"/Users/tterry/.pyenv/versions/3.5.1/lib/python3.5/inspect.py\", line 685, in getabsfile\n",
      "    return os.path.normcase(os.path.abspath(_filename))\n",
      "  File \"/Users/tterry/.pyenv/versions/3.5.1/lib/python3.5/posixpath.py\", line 361, in abspath\n",
      "    cwd = os.getcwd()\n",
      "FileNotFoundError: [Errno 2] No such file or directory\n",
      "Traceback (most recent call last):\n",
      "  File \"pandas/_libs/index.pyx\", line 154, in pandas._libs.index.IndexEngine.get_loc (pandas/_libs/index.c:5126)\n",
      "  File \"pandas/_libs/hashtable_class_helper.pxi\", line 759, in pandas._libs.hashtable.Int64HashTable.get_item (pandas/_libs/hashtable.c:14010)\n",
      "TypeError: an integer is required\n",
      "\n",
      "During handling of the above exception, another exception occurred:\n",
      "\n",
      "Traceback (most recent call last):\n",
      "  File \"/Users/tterry/.pyenv/versions/3.5.1/lib/python3.5/site-packages/IPython/core/interactiveshell.py\", line 2910, in run_code\n",
      "    exec(code_obj, self.user_global_ns, self.user_ns)\n",
      "  File \"<ipython-input-37-fca46aea3cae>\", line 1, in <module>\n",
      "    all_data['address_full'] = all_data.apply(lambda x: ' '.join([x['street_number'], x['street_type'], x['quadrant'], 'Washington, DC'], axis=1))\n",
      "  File \"/Users/tterry/.pyenv/versions/3.5.1/lib/python3.5/site-packages/pandas/core/frame.py\", line 4262, in apply\n",
      "    ignore_failures=ignore_failures)\n",
      "  File \"/Users/tterry/.pyenv/versions/3.5.1/lib/python3.5/site-packages/pandas/core/frame.py\", line 4358, in _apply_standard\n",
      "    results[i] = func(v)\n",
      "  File \"<ipython-input-37-fca46aea3cae>\", line 1, in <lambda>\n",
      "    all_data['address_full'] = all_data.apply(lambda x: ' '.join([x['street_number'], x['street_type'], x['quadrant'], 'Washington, DC'], axis=1))\n",
      "  File \"/Users/tterry/.pyenv/versions/3.5.1/lib/python3.5/site-packages/pandas/core/series.py\", line 601, in __getitem__\n",
      "    result = self.index.get_value(self, key)\n",
      "  File \"/Users/tterry/.pyenv/versions/3.5.1/lib/python3.5/site-packages/pandas/core/indexes/base.py\", line 2477, in get_value\n",
      "    tz=getattr(series.dtype, 'tz', None))\n",
      "  File \"pandas/_libs/index.pyx\", line 98, in pandas._libs.index.IndexEngine.get_value (pandas/_libs/index.c:4404)\n",
      "  File \"pandas/_libs/index.pyx\", line 106, in pandas._libs.index.IndexEngine.get_value (pandas/_libs/index.c:4087)\n",
      "  File \"pandas/_libs/index.pyx\", line 156, in pandas._libs.index.IndexEngine.get_loc (pandas/_libs/index.c:5210)\n",
      "KeyError: ('street_number', 'occurred at index ward')\n",
      "\n",
      "During handling of the above exception, another exception occurred:\n",
      "\n",
      "Traceback (most recent call last):\n",
      "  File \"/Users/tterry/.pyenv/versions/3.5.1/lib/python3.5/site-packages/IPython/core/interactiveshell.py\", line 1828, in showtraceback\n",
      "    stb = value._render_traceback_()\n",
      "AttributeError: 'KeyError' object has no attribute '_render_traceback_'\n",
      "\n",
      "During handling of the above exception, another exception occurred:\n",
      "\n",
      "Traceback (most recent call last):\n",
      "  File \"/Users/tterry/.pyenv/versions/3.5.1/lib/python3.5/site-packages/IPython/core/interactiveshell.py\", line 2850, in run_ast_nodes\n",
      "    if self.run_code(code, result):\n",
      "  File \"/Users/tterry/.pyenv/versions/3.5.1/lib/python3.5/site-packages/IPython/core/interactiveshell.py\", line 2927, in run_code\n",
      "    self.showtraceback(running_compiled_code=True)\n",
      "  File \"/Users/tterry/.pyenv/versions/3.5.1/lib/python3.5/site-packages/IPython/core/interactiveshell.py\", line 1831, in showtraceback\n",
      "    value, tb, tb_offset=tb_offset)\n",
      "  File \"/Users/tterry/.pyenv/versions/3.5.1/lib/python3.5/site-packages/IPython/core/ultratb.py\", line 1371, in structured_traceback\n",
      "    self, etype, value, tb, tb_offset, number_of_lines_of_context)\n",
      "  File \"/Users/tterry/.pyenv/versions/3.5.1/lib/python3.5/site-packages/IPython/core/ultratb.py\", line 1279, in structured_traceback\n",
      "    self, etype, value, tb, tb_offset, number_of_lines_of_context\n",
      "  File \"/Users/tterry/.pyenv/versions/3.5.1/lib/python3.5/site-packages/IPython/core/ultratb.py\", line 1140, in structured_traceback\n",
      "    formatted_exceptions += self.prepare_chained_exception_message(evalue.__cause__)\n",
      "TypeError: Can't convert 'list' object to str implicitly\n",
      "\n",
      "During handling of the above exception, another exception occurred:\n",
      "\n",
      "Traceback (most recent call last):\n",
      "  File \"/Users/tterry/.pyenv/versions/3.5.1/lib/python3.5/site-packages/IPython/core/interactiveshell.py\", line 1828, in showtraceback\n",
      "    stb = value._render_traceback_()\n",
      "AttributeError: 'TypeError' object has no attribute '_render_traceback_'\n",
      "\n",
      "During handling of the above exception, another exception occurred:\n",
      "\n",
      "Traceback (most recent call last):\n",
      "  File \"/Users/tterry/.pyenv/versions/3.5.1/lib/python3.5/site-packages/IPython/core/ultratb.py\", line 1090, in get_records\n",
      "    return _fixed_getinnerframes(etb, number_of_lines_of_context, tb_offset)\n",
      "  File \"/Users/tterry/.pyenv/versions/3.5.1/lib/python3.5/site-packages/IPython/core/ultratb.py\", line 311, in wrapped\n",
      "    return f(*args, **kwargs)\n",
      "  File \"/Users/tterry/.pyenv/versions/3.5.1/lib/python3.5/site-packages/IPython/core/ultratb.py\", line 345, in _fixed_getinnerframes\n",
      "    records = fix_frame_records_filenames(inspect.getinnerframes(etb, context))\n",
      "  File \"/Users/tterry/.pyenv/versions/3.5.1/lib/python3.5/inspect.py\", line 1453, in getinnerframes\n",
      "    frameinfo = (tb.tb_frame,) + getframeinfo(tb, context)\n",
      "  File \"/Users/tterry/.pyenv/versions/3.5.1/lib/python3.5/inspect.py\", line 1410, in getframeinfo\n",
      "    filename = getsourcefile(frame) or getfile(frame)\n",
      "  File \"/Users/tterry/.pyenv/versions/3.5.1/lib/python3.5/inspect.py\", line 672, in getsourcefile\n",
      "    if getattr(getmodule(object, filename), '__loader__', None) is not None:\n",
      "  File \"/Users/tterry/.pyenv/versions/3.5.1/lib/python3.5/inspect.py\", line 701, in getmodule\n",
      "    file = getabsfile(object, _filename)\n",
      "  File \"/Users/tterry/.pyenv/versions/3.5.1/lib/python3.5/inspect.py\", line 685, in getabsfile\n",
      "    return os.path.normcase(os.path.abspath(_filename))\n",
      "  File \"/Users/tterry/.pyenv/versions/3.5.1/lib/python3.5/posixpath.py\", line 361, in abspath\n",
      "    cwd = os.getcwd()\n",
      "FileNotFoundError: [Errno 2] No such file or directory\n",
      "Traceback (most recent call last):\n",
      "  File \"pandas/_libs/index.pyx\", line 154, in pandas._libs.index.IndexEngine.get_loc (pandas/_libs/index.c:5126)\n",
      "  File \"pandas/_libs/hashtable_class_helper.pxi\", line 759, in pandas._libs.hashtable.Int64HashTable.get_item (pandas/_libs/hashtable.c:14010)\n",
      "TypeError: an integer is required\n",
      "\n",
      "During handling of the above exception, another exception occurred:\n",
      "\n",
      "Traceback (most recent call last):\n",
      "  File \"/Users/tterry/.pyenv/versions/3.5.1/lib/python3.5/site-packages/IPython/core/interactiveshell.py\", line 2910, in run_code\n",
      "    exec(code_obj, self.user_global_ns, self.user_ns)\n",
      "  File \"<ipython-input-37-fca46aea3cae>\", line 1, in <module>\n",
      "    all_data['address_full'] = all_data.apply(lambda x: ' '.join([x['street_number'], x['street_type'], x['quadrant'], 'Washington, DC'], axis=1))\n",
      "  File \"/Users/tterry/.pyenv/versions/3.5.1/lib/python3.5/site-packages/pandas/core/frame.py\", line 4262, in apply\n",
      "    ignore_failures=ignore_failures)\n",
      "  File \"/Users/tterry/.pyenv/versions/3.5.1/lib/python3.5/site-packages/pandas/core/frame.py\", line 4358, in _apply_standard\n",
      "    results[i] = func(v)\n",
      "  File \"<ipython-input-37-fca46aea3cae>\", line 1, in <lambda>\n",
      "    all_data['address_full'] = all_data.apply(lambda x: ' '.join([x['street_number'], x['street_type'], x['quadrant'], 'Washington, DC'], axis=1))\n",
      "  File \"/Users/tterry/.pyenv/versions/3.5.1/lib/python3.5/site-packages/pandas/core/series.py\", line 601, in __getitem__\n",
      "    result = self.index.get_value(self, key)\n",
      "  File \"/Users/tterry/.pyenv/versions/3.5.1/lib/python3.5/site-packages/pandas/core/indexes/base.py\", line 2477, in get_value\n",
      "    tz=getattr(series.dtype, 'tz', None))\n",
      "  File \"pandas/_libs/index.pyx\", line 98, in pandas._libs.index.IndexEngine.get_value (pandas/_libs/index.c:4404)\n",
      "  File \"pandas/_libs/index.pyx\", line 106, in pandas._libs.index.IndexEngine.get_value (pandas/_libs/index.c:4087)\n",
      "  File \"pandas/_libs/index.pyx\", line 156, in pandas._libs.index.IndexEngine.get_loc (pandas/_libs/index.c:5210)\n",
      "KeyError: ('street_number', 'occurred at index ward')\n",
      "\n",
      "During handling of the above exception, another exception occurred:\n",
      "\n",
      "Traceback (most recent call last):\n",
      "  File \"/Users/tterry/.pyenv/versions/3.5.1/lib/python3.5/site-packages/IPython/core/interactiveshell.py\", line 1828, in showtraceback\n",
      "    stb = value._render_traceback_()\n",
      "AttributeError: 'KeyError' object has no attribute '_render_traceback_'\n",
      "\n",
      "During handling of the above exception, another exception occurred:\n",
      "\n",
      "Traceback (most recent call last):\n",
      "  File \"/Users/tterry/.pyenv/versions/3.5.1/lib/python3.5/site-packages/IPython/core/interactiveshell.py\", line 2850, in run_ast_nodes\n",
      "    if self.run_code(code, result):\n",
      "  File \"/Users/tterry/.pyenv/versions/3.5.1/lib/python3.5/site-packages/IPython/core/interactiveshell.py\", line 2927, in run_code\n",
      "    self.showtraceback(running_compiled_code=True)\n",
      "  File \"/Users/tterry/.pyenv/versions/3.5.1/lib/python3.5/site-packages/IPython/core/interactiveshell.py\", line 1831, in showtraceback\n",
      "    value, tb, tb_offset=tb_offset)\n",
      "  File \"/Users/tterry/.pyenv/versions/3.5.1/lib/python3.5/site-packages/IPython/core/ultratb.py\", line 1371, in structured_traceback\n",
      "    self, etype, value, tb, tb_offset, number_of_lines_of_context)\n",
      "  File \"/Users/tterry/.pyenv/versions/3.5.1/lib/python3.5/site-packages/IPython/core/ultratb.py\", line 1279, in structured_traceback\n",
      "    self, etype, value, tb, tb_offset, number_of_lines_of_context\n",
      "  File \"/Users/tterry/.pyenv/versions/3.5.1/lib/python3.5/site-packages/IPython/core/ultratb.py\", line 1140, in structured_traceback\n",
      "    formatted_exceptions += self.prepare_chained_exception_message(evalue.__cause__)\n",
      "TypeError: Can't convert 'list' object to str implicitly\n",
      "\n",
      "During handling of the above exception, another exception occurred:\n",
      "\n",
      "Traceback (most recent call last):\n",
      "  File \"/Users/tterry/.pyenv/versions/3.5.1/lib/python3.5/site-packages/IPython/core/interactiveshell.py\", line 1828, in showtraceback\n",
      "    stb = value._render_traceback_()\n",
      "AttributeError: 'TypeError' object has no attribute '_render_traceback_'\n",
      "\n",
      "During handling of the above exception, another exception occurred:\n",
      "\n",
      "Traceback (most recent call last):\n",
      "  File \"/Users/tterry/.pyenv/versions/3.5.1/lib/python3.5/site-packages/IPython/core/ultratb.py\", line 1090, in get_records\n",
      "    return _fixed_getinnerframes(etb, number_of_lines_of_context, tb_offset)\n",
      "  File \"/Users/tterry/.pyenv/versions/3.5.1/lib/python3.5/site-packages/IPython/core/ultratb.py\", line 311, in wrapped\n",
      "    return f(*args, **kwargs)\n",
      "  File \"/Users/tterry/.pyenv/versions/3.5.1/lib/python3.5/site-packages/IPython/core/ultratb.py\", line 345, in _fixed_getinnerframes\n",
      "    records = fix_frame_records_filenames(inspect.getinnerframes(etb, context))\n",
      "  File \"/Users/tterry/.pyenv/versions/3.5.1/lib/python3.5/inspect.py\", line 1453, in getinnerframes\n",
      "    frameinfo = (tb.tb_frame,) + getframeinfo(tb, context)\n",
      "  File \"/Users/tterry/.pyenv/versions/3.5.1/lib/python3.5/inspect.py\", line 1410, in getframeinfo\n",
      "    filename = getsourcefile(frame) or getfile(frame)\n",
      "  File \"/Users/tterry/.pyenv/versions/3.5.1/lib/python3.5/inspect.py\", line 672, in getsourcefile\n",
      "    if getattr(getmodule(object, filename), '__loader__', None) is not None:\n",
      "  File \"/Users/tterry/.pyenv/versions/3.5.1/lib/python3.5/inspect.py\", line 701, in getmodule\n",
      "    file = getabsfile(object, _filename)\n",
      "  File \"/Users/tterry/.pyenv/versions/3.5.1/lib/python3.5/inspect.py\", line 685, in getabsfile\n",
      "    return os.path.normcase(os.path.abspath(_filename))\n",
      "  File \"/Users/tterry/.pyenv/versions/3.5.1/lib/python3.5/posixpath.py\", line 361, in abspath\n",
      "    cwd = os.getcwd()\n",
      "FileNotFoundError: [Errno 2] No such file or directory\n"
     ]
    },
    {
     "ename": "TypeError",
     "evalue": "Can't convert 'list' object to str implicitly",
     "output_type": "error",
     "traceback": [
      "\u001b[0;31m---------------------------------------------------------------------------\u001b[0m",
      "\nDuring handling of the above exception, another exception occurred:\n",
      "\nDuring handling of the above exception, another exception occurred:\n",
      "\u001b[0;31mAttributeError\u001b[0m                            Traceback (most recent call last)",
      "\u001b[0;32m~/.pyenv/versions/3.5.1/lib/python3.5/site-packages/IPython/core/interactiveshell.py\u001b[0m in \u001b[0;36mshowtraceback\u001b[0;34m(self, exc_tuple, filename, tb_offset, exception_only, running_compiled_code)\u001b[0m\n\u001b[1;32m   1827\u001b[0m                         \u001b[0;31m# in the engines. This should return a list of strings.\u001b[0m\u001b[0;34m\u001b[0m\u001b[0;34m\u001b[0m\u001b[0m\n\u001b[0;32m-> 1828\u001b[0;31m                         \u001b[0mstb\u001b[0m \u001b[0;34m=\u001b[0m \u001b[0mvalue\u001b[0m\u001b[0;34m.\u001b[0m\u001b[0m_render_traceback_\u001b[0m\u001b[0;34m(\u001b[0m\u001b[0;34m)\u001b[0m\u001b[0;34m\u001b[0m\u001b[0m\n\u001b[0m\u001b[1;32m   1829\u001b[0m                     \u001b[0;32mexcept\u001b[0m \u001b[0mException\u001b[0m\u001b[0;34m:\u001b[0m\u001b[0;34m\u001b[0m\u001b[0m\n",
      "\u001b[0;31mAttributeError\u001b[0m: 'KeyError' object has no attribute '_render_traceback_'",
      "\nDuring handling of the above exception, another exception occurred:\n",
      "\u001b[0;31mTypeError\u001b[0m                                 Traceback (most recent call last)",
      "\u001b[0;32m~/.pyenv/versions/3.5.1/lib/python3.5/site-packages/IPython/core/interactiveshell.py\u001b[0m in \u001b[0;36mrun_code\u001b[0;34m(self, code_obj, result)\u001b[0m\n\u001b[1;32m   2925\u001b[0m             \u001b[0;32mif\u001b[0m \u001b[0mresult\u001b[0m \u001b[0;32mis\u001b[0m \u001b[0;32mnot\u001b[0m \u001b[0;32mNone\u001b[0m\u001b[0;34m:\u001b[0m\u001b[0;34m\u001b[0m\u001b[0m\n\u001b[1;32m   2926\u001b[0m                 \u001b[0mresult\u001b[0m\u001b[0;34m.\u001b[0m\u001b[0merror_in_exec\u001b[0m \u001b[0;34m=\u001b[0m \u001b[0msys\u001b[0m\u001b[0;34m.\u001b[0m\u001b[0mexc_info\u001b[0m\u001b[0;34m(\u001b[0m\u001b[0;34m)\u001b[0m\u001b[0;34m[\u001b[0m\u001b[0;36m1\u001b[0m\u001b[0;34m]\u001b[0m\u001b[0;34m\u001b[0m\u001b[0m\n\u001b[0;32m-> 2927\u001b[0;31m             \u001b[0mself\u001b[0m\u001b[0;34m.\u001b[0m\u001b[0mshowtraceback\u001b[0m\u001b[0;34m(\u001b[0m\u001b[0mrunning_compiled_code\u001b[0m\u001b[0;34m=\u001b[0m\u001b[0;32mTrue\u001b[0m\u001b[0;34m)\u001b[0m\u001b[0;34m\u001b[0m\u001b[0m\n\u001b[0m\u001b[1;32m   2928\u001b[0m         \u001b[0;32melse\u001b[0m\u001b[0;34m:\u001b[0m\u001b[0;34m\u001b[0m\u001b[0m\n\u001b[1;32m   2929\u001b[0m             \u001b[0moutflag\u001b[0m \u001b[0;34m=\u001b[0m \u001b[0;32mFalse\u001b[0m\u001b[0;34m\u001b[0m\u001b[0m\n",
      "\u001b[0;32m~/.pyenv/versions/3.5.1/lib/python3.5/site-packages/IPython/core/interactiveshell.py\u001b[0m in \u001b[0;36mshowtraceback\u001b[0;34m(self, exc_tuple, filename, tb_offset, exception_only, running_compiled_code)\u001b[0m\n\u001b[1;32m   1829\u001b[0m                     \u001b[0;32mexcept\u001b[0m \u001b[0mException\u001b[0m\u001b[0;34m:\u001b[0m\u001b[0;34m\u001b[0m\u001b[0m\n\u001b[1;32m   1830\u001b[0m                         stb = self.InteractiveTB.structured_traceback(etype,\n\u001b[0;32m-> 1831\u001b[0;31m                                             value, tb, tb_offset=tb_offset)\n\u001b[0m\u001b[1;32m   1832\u001b[0m \u001b[0;34m\u001b[0m\u001b[0m\n\u001b[1;32m   1833\u001b[0m                     \u001b[0mself\u001b[0m\u001b[0;34m.\u001b[0m\u001b[0m_showtraceback\u001b[0m\u001b[0;34m(\u001b[0m\u001b[0metype\u001b[0m\u001b[0;34m,\u001b[0m \u001b[0mvalue\u001b[0m\u001b[0;34m,\u001b[0m \u001b[0mstb\u001b[0m\u001b[0;34m)\u001b[0m\u001b[0;34m\u001b[0m\u001b[0m\n",
      "\u001b[0;32m~/.pyenv/versions/3.5.1/lib/python3.5/site-packages/IPython/core/ultratb.py\u001b[0m in \u001b[0;36mstructured_traceback\u001b[0;34m(self, etype, value, tb, tb_offset, number_of_lines_of_context)\u001b[0m\n\u001b[1;32m   1369\u001b[0m         \u001b[0mself\u001b[0m\u001b[0;34m.\u001b[0m\u001b[0mtb\u001b[0m \u001b[0;34m=\u001b[0m \u001b[0mtb\u001b[0m\u001b[0;34m\u001b[0m\u001b[0m\n\u001b[1;32m   1370\u001b[0m         return FormattedTB.structured_traceback(\n\u001b[0;32m-> 1371\u001b[0;31m             self, etype, value, tb, tb_offset, number_of_lines_of_context)\n\u001b[0m\u001b[1;32m   1372\u001b[0m \u001b[0;34m\u001b[0m\u001b[0m\n\u001b[1;32m   1373\u001b[0m \u001b[0;34m\u001b[0m\u001b[0m\n",
      "\u001b[0;32m~/.pyenv/versions/3.5.1/lib/python3.5/site-packages/IPython/core/ultratb.py\u001b[0m in \u001b[0;36mstructured_traceback\u001b[0;34m(self, etype, value, tb, tb_offset, number_of_lines_of_context)\u001b[0m\n\u001b[1;32m   1277\u001b[0m             \u001b[0;31m# Verbose modes need a full traceback\u001b[0m\u001b[0;34m\u001b[0m\u001b[0;34m\u001b[0m\u001b[0m\n\u001b[1;32m   1278\u001b[0m             return VerboseTB.structured_traceback(\n\u001b[0;32m-> 1279\u001b[0;31m                 \u001b[0mself\u001b[0m\u001b[0;34m,\u001b[0m \u001b[0metype\u001b[0m\u001b[0;34m,\u001b[0m \u001b[0mvalue\u001b[0m\u001b[0;34m,\u001b[0m \u001b[0mtb\u001b[0m\u001b[0;34m,\u001b[0m \u001b[0mtb_offset\u001b[0m\u001b[0;34m,\u001b[0m \u001b[0mnumber_of_lines_of_context\u001b[0m\u001b[0;34m\u001b[0m\u001b[0m\n\u001b[0m\u001b[1;32m   1280\u001b[0m             )\n\u001b[1;32m   1281\u001b[0m         \u001b[0;32melse\u001b[0m\u001b[0;34m:\u001b[0m\u001b[0;34m\u001b[0m\u001b[0m\n",
      "\u001b[0;32m~/.pyenv/versions/3.5.1/lib/python3.5/site-packages/IPython/core/ultratb.py\u001b[0m in \u001b[0;36mstructured_traceback\u001b[0;34m(self, etype, evalue, etb, tb_offset, number_of_lines_of_context)\u001b[0m\n\u001b[1;32m   1138\u001b[0m             \u001b[0mexception\u001b[0m \u001b[0;34m=\u001b[0m \u001b[0mself\u001b[0m\u001b[0;34m.\u001b[0m\u001b[0mget_parts_of_chained_exception\u001b[0m\u001b[0;34m(\u001b[0m\u001b[0mevalue\u001b[0m\u001b[0;34m)\u001b[0m\u001b[0;34m\u001b[0m\u001b[0m\n\u001b[1;32m   1139\u001b[0m             \u001b[0;32mif\u001b[0m \u001b[0mexception\u001b[0m\u001b[0;34m:\u001b[0m\u001b[0;34m\u001b[0m\u001b[0m\n\u001b[0;32m-> 1140\u001b[0;31m                 \u001b[0mformatted_exceptions\u001b[0m \u001b[0;34m+=\u001b[0m \u001b[0mself\u001b[0m\u001b[0;34m.\u001b[0m\u001b[0mprepare_chained_exception_message\u001b[0m\u001b[0;34m(\u001b[0m\u001b[0mevalue\u001b[0m\u001b[0;34m.\u001b[0m\u001b[0m__cause__\u001b[0m\u001b[0;34m)\u001b[0m\u001b[0;34m\u001b[0m\u001b[0m\n\u001b[0m\u001b[1;32m   1141\u001b[0m                 \u001b[0metype\u001b[0m\u001b[0;34m,\u001b[0m \u001b[0mevalue\u001b[0m\u001b[0;34m,\u001b[0m \u001b[0metb\u001b[0m \u001b[0;34m=\u001b[0m \u001b[0mexception\u001b[0m\u001b[0;34m\u001b[0m\u001b[0m\n\u001b[1;32m   1142\u001b[0m             \u001b[0;32melse\u001b[0m\u001b[0;34m:\u001b[0m\u001b[0;34m\u001b[0m\u001b[0m\n",
      "\u001b[0;31mTypeError\u001b[0m: Can't convert 'list' object to str implicitly"
     ]
    }
   ],
   "source": [
    "all_data['address_full'] = all_data.apply(lambda x: ' '.join([x['street_number'], x['street_type'], x['quadrant'], 'Washington, DC'], axis=1))"
   ]
  },
  {
   "cell_type": "code",
   "execution_count": 44,
   "metadata": {},
   "outputs": [],
   "source": [
    "all_data['address_full'] = all_data.apply(lambda x: x['street_number'] + ' ' + x['street_name'] + ' ' + x['street_type'] + ' ' + x['quadrant'] + ' ' + 'Washington, DC', axis=1)"
   ]
  },
  {
   "cell_type": "code",
   "execution_count": 48,
   "metadata": {},
   "outputs": [
    {
     "name": "stderr",
     "output_type": "stream",
     "text": [
      "ERROR:root:Internal Python error in the inspect module.\n",
      "Below is the traceback from this internal error.\n",
      "\n"
     ]
    },
    {
     "name": "stdout",
     "output_type": "stream",
     "text": [
      "Traceback (most recent call last):\n",
      "  File \"/Users/tterry/.pyenv/versions/3.5.1/lib/python3.5/site-packages/IPython/core/interactiveshell.py\", line 2910, in run_code\n",
      "    exec(code_obj, self.user_global_ns, self.user_ns)\n",
      "  File \"<ipython-input-48-30b3225b8516>\", line 1, in <module>\n",
      "    all_data['geocode_object'] = all_data.address_full.apply(Geocoder.geocode)\n",
      "  File \"/Users/tterry/.pyenv/versions/3.5.1/lib/python3.5/site-packages/pandas/core/series.py\", line 2355, in apply\n",
      "    mapped = lib.map_infer(values, f, convert=convert_dtype)\n",
      "  File \"pandas/_libs/src/inference.pyx\", line 1574, in pandas._libs.lib.map_infer (pandas/_libs/lib.c:66645)\n",
      "  File \"/Users/tterry/.pyenv/versions/3.5.1/lib/python3.5/site-packages/pygeocoder.py\", line 129, in geocode\n",
      "    return GeocoderResult(Geocoder.get_data(params=params))\n",
      "  File \"/Users/tterry/.pyenv/versions/3.5.1/lib/python3.5/site-packages/pygeocoder.py\", line 212, in get_data\n",
      "    raise GeocoderError(response_json['status'], response.url)\n",
      "pygeolib.GeocoderError: Error OVER_QUERY_LIMIT\n",
      "Query: https://maps.google.com/maps/api/geocode/json?bounds=&components=&sensor=false&region=&address=2412+18TH+ST+NW+Washington%2C+DC&language=\n",
      "\n",
      "During handling of the above exception, another exception occurred:\n",
      "\n",
      "Traceback (most recent call last):\n",
      "  File \"/Users/tterry/.pyenv/versions/3.5.1/lib/python3.5/site-packages/IPython/core/interactiveshell.py\", line 1828, in showtraceback\n",
      "    stb = value._render_traceback_()\n",
      "AttributeError: 'GeocoderError' object has no attribute '_render_traceback_'\n",
      "\n",
      "During handling of the above exception, another exception occurred:\n",
      "\n",
      "Traceback (most recent call last):\n",
      "  File \"/Users/tterry/.pyenv/versions/3.5.1/lib/python3.5/site-packages/IPython/core/ultratb.py\", line 1090, in get_records\n",
      "    return _fixed_getinnerframes(etb, number_of_lines_of_context, tb_offset)\n",
      "  File \"/Users/tterry/.pyenv/versions/3.5.1/lib/python3.5/site-packages/IPython/core/ultratb.py\", line 311, in wrapped\n",
      "    return f(*args, **kwargs)\n",
      "  File \"/Users/tterry/.pyenv/versions/3.5.1/lib/python3.5/site-packages/IPython/core/ultratb.py\", line 345, in _fixed_getinnerframes\n",
      "    records = fix_frame_records_filenames(inspect.getinnerframes(etb, context))\n",
      "  File \"/Users/tterry/.pyenv/versions/3.5.1/lib/python3.5/inspect.py\", line 1453, in getinnerframes\n",
      "    frameinfo = (tb.tb_frame,) + getframeinfo(tb, context)\n",
      "  File \"/Users/tterry/.pyenv/versions/3.5.1/lib/python3.5/inspect.py\", line 1410, in getframeinfo\n",
      "    filename = getsourcefile(frame) or getfile(frame)\n",
      "  File \"/Users/tterry/.pyenv/versions/3.5.1/lib/python3.5/inspect.py\", line 672, in getsourcefile\n",
      "    if getattr(getmodule(object, filename), '__loader__', None) is not None:\n",
      "  File \"/Users/tterry/.pyenv/versions/3.5.1/lib/python3.5/inspect.py\", line 701, in getmodule\n",
      "    file = getabsfile(object, _filename)\n",
      "  File \"/Users/tterry/.pyenv/versions/3.5.1/lib/python3.5/inspect.py\", line 685, in getabsfile\n",
      "    return os.path.normcase(os.path.abspath(_filename))\n",
      "  File \"/Users/tterry/.pyenv/versions/3.5.1/lib/python3.5/posixpath.py\", line 361, in abspath\n",
      "    cwd = os.getcwd()\n",
      "FileNotFoundError: [Errno 2] No such file or directory\n"
     ]
    },
    {
     "ename": "GeocoderError",
     "evalue": "Error OVER_QUERY_LIMIT\nQuery: https://maps.google.com/maps/api/geocode/json?bounds=&components=&sensor=false&region=&address=2412+18TH+ST+NW+Washington%2C+DC&language=",
     "output_type": "error",
     "traceback": [
      "\u001b[0;31m---------------------------------------------------------------------------\u001b[0m"
     ]
    }
   ],
   "source": [
    "all_data['geocode_object'] = all_data.address_full.apply(Geocoder.geocode)"
   ]
  },
  {
   "cell_type": "code",
   "execution_count": 47,
   "metadata": {},
   "outputs": [
    {
     "data": {
      "text/plain": [
       "True"
      ]
     },
     "execution_count": 47,
     "metadata": {},
     "output_type": "execute_result"
    }
   ],
   "source": [
    "Geocoder.geocode('2002 11TH ST NW Washington, DC').valid_address"
   ]
  }
 ],
 "metadata": {
  "kernelspec": {
   "display_name": "Python 3",
   "language": "python",
   "name": "python3"
  },
  "language_info": {
   "codemirror_mode": {
    "name": "ipython",
    "version": 3
   },
   "file_extension": ".py",
   "mimetype": "text/x-python",
   "name": "python",
   "nbconvert_exporter": "python",
   "pygments_lexer": "ipython3",
   "version": "3.5.1"
  }
 },
 "nbformat": 4,
 "nbformat_minor": 2
}
